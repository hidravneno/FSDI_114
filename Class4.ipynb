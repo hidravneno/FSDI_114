{
 "cells": [
  {
   "cell_type": "markdown",
   "id": "aa5538c4-21ea-498d-bfb0-daa250dd4566",
   "metadata": {},
   "source": [
    "# problem 1\n",
    "\n",
    "## Anagram Check\n",
    "Create a function, \"anagram_check\" , that recives two arguments of type strings and detrmibes if these are anagrams of each other (criteria below), returning \"True\" if these are anagrams of each other, \"False\" otherwise \n",
    "\n",
    "## Criteria\n",
    "Two strings are anagrams of each other if, and only if, all the criteria below are met:\n",
    "1. They must use contain the same amount of letters. \n",
    "2.  They must use the same letters the same amount of times.\n",
    "\n",
    "## Examples\n",
    "heart and earth\n",
    "\n",
    "cars and scar \n",
    "\n",
    "rats and star\n",
    "\n",
    "## Note\n",
    "The three examples above are just examples, there may be other strings (many) that meet the criteria above.\n"
   ]
  },
  {
   "cell_type": "code",
   "execution_count": null,
   "id": "aab6ae7b-1317-457a-8524-bc8cb8a3c2ea",
   "metadata": {},
   "outputs": [
    {
     "name": "stdout",
     "output_type": "stream",
     "text": [
      "True\n",
      "True\n",
      "True\n"
     ]
    }
   ],
   "source": [
    "def anagram_check(str1, str2):\n",
    "    # Remove spaces and convert both strings to lowercase\n",
    "    str1 = str1.replace(\" \", \"\").lower()\n",
    "    str2 = str2.replace(\" \", \"\").lower()\n",
    "\n",
    "    # If their lengths are different, they can't be anagrams\n",
    "    if len(str1) != len(str2):\n",
    "        return False\n",
    "\n",
    "    # Use a Counter to count each character's frequency\n",
    "    from collections import Counter\n",
    "    return Counter(str1) == Counter(str2)\n",
    "\n",
    "\n",
    "print(anagram_check(\"heart\", \"earth\"))   # True\n",
    "print(anagram_check(\"cars\", \"scar\"))     # True\n",
    "print(anagram_check(\"rats\", \"star\"))      # True\n",
    "\n"
   ]
  },
  {
   "cell_type": "code",
   "execution_count": null,
   "id": "3b56fb06-4427-4293-b3fa-920301e2254a",
   "metadata": {},
   "outputs": [],
   "source": [
    "# Pseudocode version \n",
    "# define function \"anagram_check\" with params string1 and string2:\n",
    "#    string1 = string1 without spaces in lower case\n",
    "#    string2 = string2 without spaces in lower case\n",
    "#    if the length if string1 is not equal to the length of string2: \n",
    "#     return False\n",
    "#    otherwise:\n",
    "#     d1 = new dictionary\n",
    "#     d2 = new dictionary\n",
    "#     for each \"number\" in the range from 0 to the length of string1:\n",
    "#         if the character at position \"number\" in string1 is not in d1:\n",
    "#             add that character to d1 as a key, and set its value to 1 # indicating we've seen this character once\n",
    "#         otherwise:\n",
    "#             add 1 to the value associated with this character in d1 # indicating we've seen it more than once\n",
    "#         if the character at position \"number\" in string2 is not in d2:\n",
    "#             add that character to d2 as a key, and set its value to 1 # indicating we've seen this character once\n",
    "#         otherwise:\n",
    "#             add 1 to the value associated with this character in d2 # indicating we've seen it more than once\n",
    "#     if d1 == d2:\n",
    "#         return True\n",
    "#     else:\n",
    "#         return False\n"
   ]
  },
  {
   "cell_type": "code",
   "execution_count": null,
   "id": "b5328e2b-2394-47a9-b691-4ef11bf46a31",
   "metadata": {},
   "outputs": [
    {
     "name": "stdout",
     "output_type": "stream",
     "text": [
      "True\n",
      "True\n",
      "True\n",
      "True\n"
     ]
    }
   ],
   "source": [
    "def anagram_check(string1, string2):\n",
    "    # Remove spaces and convert both strings to lowercase\n",
    "    string1 = string1.replace(\" \", \"\").lower()\n",
    "    string2 = string2.replace(\" \", \"\").lower()\n",
    "\n",
    "    # If lengths are different, return False\n",
    "    if len(string1) != len(string2):\n",
    "        return False\n",
    "\n",
    "    # Create dictionaries to count character frequencies\n",
    "    d1 = {}\n",
    "    d2 = {}\n",
    "\n",
    "    # Count frequencies of characters in both strings\n",
    "    for number in range(len(string1)):\n",
    "        d1[string1[number]] = d1.get(string1[number], 0) + 1\n",
    "        d2[string2[number]] = d2.get(string2[number], 0) + 1\n",
    "\n",
    "    # Compare dictionaries\n",
    "    if d1 == d2:\n",
    "        return True\n",
    "    else:\n",
    "        return False\n",
    "\n",
    "# Test cases\n",
    "print(anagram_check(\"heart\", \"earth\"))   # True\n",
    "print(anagram_check(\"cars\", \"scar\"))     # True\n",
    "print(anagram_check(\"rats\", \"star\"))     # True\n",
    "print(anagram_check(\"Listen\", \"Silent\")) # True\n"
   ]
  },
  {
   "cell_type": "code",
   "execution_count": null,
   "id": "c82a2e59-b0a5-4882-8440-47edcafb3304",
   "metadata": {},
   "outputs": [],
   "source": [
    "#Doubly Linked List\n",
    "\n",
    "class Node:\n",
    "    def __init__(self, data):\n",
    "        self.data = data\n",
    "        self.next = None\n",
    "\n",
    "class SinglyLinkedList:\n",
    "    def __init__(self):\n",
    "        self.head = None\n",
    "\n",
    "    def insert(self, data):\n",
    "        new_node = Node(data)\n",
    "        if self.head is None:\n",
    "            self.head = new_node\n",
    "        else:\n",
    "            last_node = self.head\n",
    "            while last_node.next:\n",
    "                last_node = last_node.next\n",
    "            last_node.next = new_node\n",
    "\n",
    "    def delete(self, key):\n",
    "        current = self.head\n",
    "        if current and current.data == key:\n",
    "            self.head = current.next\n",
    "            current = None\n",
    "            return\n",
    "        prev = None\n",
    "        while current and current.data != key:\n",
    "            prev = current\n",
    "            current = current.next\n",
    "        if current is None:\n",
    "            return\n",
    "        prev.next = current.next\n",
    "        current = None\n",
    "\n",
    "    def search(self, key):\n",
    "        current = self.head\n",
    "        while current:\n",
    "            if current.data == key:\n",
    "                return True\n",
    "            current = current.next\n",
    "        return False\n",
    "\n",
    "    def display(self):\n",
    "        current = self.head\n",
    "        while current:\n",
    "            print(current.data, end=\" -> \")\n",
    "            current = current.next\n",
    "        print(\"None\")\n",
    "\n"
   ]
  }
 ],
 "metadata": {
  "kernelspec": {
   "display_name": "Python 3 (ipykernel)",
   "language": "python",
   "name": "python3"
  },
  "language_info": {
   "codemirror_mode": {
    "name": "ipython",
    "version": 3
   },
   "file_extension": ".py",
   "mimetype": "text/x-python",
   "name": "python",
   "nbconvert_exporter": "python",
   "pygments_lexer": "ipython3",
   "version": "3.12.3"
  }
 },
 "nbformat": 4,
 "nbformat_minor": 5
}
