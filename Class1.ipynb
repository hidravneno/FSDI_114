{
 "cells": [
  {
   "cell_type": "markdown",
   "id": "27135a5b-8594-4685-bb66-324a82050eb4",
   "metadata": {},
   "source": [
    "# stacks\n",
    "a stacks is an order collection of elements where items are added and removed from the same end, commonly known as the top."
   ]
  },
  {
   "cell_type": "code",
   "execution_count": 1,
   "id": "e272305d-e813-48aa-9548-582c543a8da0",
   "metadata": {},
   "outputs": [],
   "source": [
    "#simplifielf implementation of stack (relying on built-ins)\n",
    "\n",
    "class Stack:\n",
    "    def __init__(self):\n",
    "        self.items = []  # this is a python3 list\n",
    "\n",
    "    def push(self, value):\n",
    "        self.items.append(value)\n",
    "\n",
    "    def pop(self):\n",
    "        return self.items.pop()\n",
    "\n",
    "    # Nice to have methods:\n",
    "    def peek(self):\n",
    "        return self.items[len(self.items)-1]\n",
    "\n",
    "    def is_empty(self):\n",
    "        return self.items == []\n",
    "\n",
    "    def size(self):\n",
    "        return len(self.items)\n"
   ]
  },
  {
   "cell_type": "markdown",
   "id": "7350ca53-5250-43c3-b92f-74020f4d7428",
   "metadata": {},
   "source": [
    "# Problem 1\n",
    "Create a function called \"invert_str\" that recives a string as a parameter and returns it  in enverted order as result.\n",
    "\n",
    "\n",
    "## Examples\n",
    "...\n",
    "rafael -> leafar\n",
    "earth -> htrae\n",
    "hello -> olleh\n",
    "world -> dlrow\n",
    "...\n",
    "\n",
    "### Aceptance Criteria\n",
    "Your final solution absolutely must make use of the stack class above.\n",
    "You should, at a minimum, be able to present a design for your solution (pseudocode recommended, but you can use flowcharts)."
   ]
  },
  {
   "cell_type": "code",
   "execution_count": 4,
   "id": "041aa2d9-53c6-4704-bb7d-a758e416629e",
   "metadata": {},
   "outputs": [
    {
     "name": "stdout",
     "output_type": "stream",
     "text": [
      "leafar\n",
      "htrae\n",
      "olleh\n",
      "dlrow\n"
     ]
    }
   ],
   "source": [
    "class Stack:\n",
    "    def __init__(self):\n",
    "        self.items = []\n",
    "\n",
    "    def push(self, value):\n",
    "        self.items.append(value)\n",
    "\n",
    "    def pop(self):\n",
    "        return self.items.pop()\n",
    "\n",
    "    #In empty what it will do is that if it has elements it returns true and here we use len to determine\n",
    "    #how many elements there are in the stack if there are none 0 it makes the comparison == 0\n",
    "    def is_empty(self):\n",
    "        return len(self.items) == 0\n",
    "#here is a fuction \n",
    "def invert_str(cadena):\n",
    "    stack = Stack()\n",
    "\n",
    "    for char in cadena:\n",
    "        stack.push(char)\n",
    "\n",
    "    inverted_str = \"\"\n",
    "\n",
    "    while not stack.is_empty():\n",
    "        inverted_str += stack.pop()\n",
    "\n",
    "    return inverted_str\n",
    "\n",
    "print(invert_str(\"rafael\"))  # \"leafar\"\n",
    "print(invert_str(\"earth\"))   # \"htrae\"\n",
    "print(invert_str(\"hello\"))   # \"olleh\"\n",
    "print(invert_str(\"world\"))   # \"dlrow\"\n"
   ]
  },
  {
   "cell_type": "code",
   "execution_count": null,
   "id": "6bf0e5a9-5979-4c03-a449-f56cc52ee0c5",
   "metadata": {},
   "outputs": [],
   "source": [
    "def invert_str(mystring):\n",
    "    stack = Stack()\n",
    "    for char in mystring:\n",
    "        stack.push\n",
    "    "
   ]
  }
 ],
 "metadata": {
  "kernelspec": {
   "display_name": "Python 3 (ipykernel)",
   "language": "python",
   "name": "python3"
  },
  "language_info": {
   "codemirror_mode": {
    "name": "ipython",
    "version": 3
   },
   "file_extension": ".py",
   "mimetype": "text/x-python",
   "name": "python",
   "nbconvert_exporter": "python",
   "pygments_lexer": "ipython3",
   "version": "3.12.3"
  }
 },
 "nbformat": 4,
 "nbformat_minor": 5
}
